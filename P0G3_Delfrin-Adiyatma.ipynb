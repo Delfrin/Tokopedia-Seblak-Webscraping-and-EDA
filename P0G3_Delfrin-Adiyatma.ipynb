{
 "cells": [
  {
   "cell_type": "code",
   "execution_count": null,
   "metadata": {},
   "outputs": [],
   "source": [
    "'''\n",
    "=================================================\n",
    "Graded Challenge 3\n",
    "\n",
    "Nama  : Delfrin Adiyatma Situmeang \n",
    "Batch : HCK\n",
    "\n",
    "Program ini dibuat untuk menganalisis dan mengetahui bagaimana situsi jual-beli seblak di tokopedia, seperti kesukaan orang, kuantitas terjual, pendapatan yang mungkin bisa diperoleh, serta animo masyarakat.\n",
    "=================================================\n",
    "'''"
   ]
  },
  {
   "cell_type": "markdown",
   "metadata": {},
   "source": [
    "# WEB SCRAPING"
   ]
  },
  {
   "cell_type": "code",
   "execution_count": 3,
   "metadata": {},
   "outputs": [
    {
     "name": "stdout",
     "output_type": "stream",
     "text": [
      "<html data-rh=\"lang,translate\" lang=\"id\" translate=\"no\">\n",
      " <head>\n",
      "  <title>\n",
      "   Jual seblak | Tokopedia\n",
      "  </title>\n",
      "  <meta charset=\"utf-8\"/>\n",
      "  <meta content=\"initial-scale=1, minimum-scale=1, maximum-scale=5, user-scalable=yes, width=device-width\" name=\"viewport\"/>\n",
      "  <link crossorigin=\"\" href=\"https://assets.tokopedia.net\" rel=\"preconnect\"/>\n",
      "  <link href=\"https://assets.tokopedia.net\" nonce=\"\" rel=\"dns-prefetch\"/>\n",
      "  <link crossorigin=\"\" href=\"https://gql.tokopedia.com\" rel=\"preconnect\"/>\n",
      "  <link href=\"https://gql.tokopedia.com\" nonce=\"\" rel=\"dns-prefetch\"/>\n",
      "  <link crossorigin=\"\" href=\"https://googleads.g.doubleclick.net\" rel=\"preconnect\"/>\n",
      "  <link href=\"https://googleads.g.doubleclick.net\" no\n"
     ]
    }
   ],
   "source": [
    "from bs4 import BeautifulSoup\n",
    "from selenium import webdriver\n",
    "\n",
    "#mendefinisikan chromedriver\n",
    "driver = webdriver.Chrome('')\n",
    "\n",
    "#mendapatkan url\n",
    "url = f\"https://www.tokopedia.com/search?navsource=&page=1&q=seblak&srp_component_id=02.01.00.00&srp_page_id=&srp_page_title=&st=\"\n",
    "driver.get(url)\n",
    "\n",
    "html = driver.page_source\n",
    "\n",
    "soup = BeautifulSoup(html, \"html.parser\")\n",
    "print(soup.prettify()[:700])"
   ]
  },
  {
   "cell_type": "code",
   "execution_count": 4,
   "metadata": {},
   "outputs": [
    {
     "data": {
      "text/html": [
       "<div>\n",
       "<style scoped>\n",
       "    .dataframe tbody tr th:only-of-type {\n",
       "        vertical-align: middle;\n",
       "    }\n",
       "\n",
       "    .dataframe tbody tr th {\n",
       "        vertical-align: top;\n",
       "    }\n",
       "\n",
       "    .dataframe thead th {\n",
       "        text-align: right;\n",
       "    }\n",
       "</style>\n",
       "<table border=\"1\" class=\"dataframe\">\n",
       "  <thead>\n",
       "    <tr style=\"text-align: right;\">\n",
       "      <th></th>\n",
       "      <th>nama_produk</th>\n",
       "      <th>harga</th>\n",
       "      <th>lokasi_toko</th>\n",
       "      <th>nama_toko</th>\n",
       "      <th>banyak_terjual</th>\n",
       "      <th>rating</th>\n",
       "    </tr>\n",
       "  </thead>\n",
       "  <tbody>\n",
       "    <tr>\n",
       "      <th>0</th>\n",
       "      <td>Seblak Rafael, Seblak Coet Instan Halal</td>\n",
       "      <td>Rp25.000</td>\n",
       "      <td>Depok</td>\n",
       "      <td>Brother Meat Shop</td>\n",
       "      <td>500+ terjual</td>\n",
       "      <td>5.0</td>\n",
       "    </tr>\n",
       "    <tr>\n",
       "      <th>1</th>\n",
       "      <td>Basranger - Seblak Instan Basranger</td>\n",
       "      <td>Rp20.000</td>\n",
       "      <td>Kab. Bandung Barat</td>\n",
       "      <td>DeveniDives</td>\n",
       "      <td>None</td>\n",
       "      <td>None</td>\n",
       "    </tr>\n",
       "    <tr>\n",
       "      <th>2</th>\n",
       "      <td>Seblak Instan Ceu Nthien Khas Bandung Rasana N...</td>\n",
       "      <td>Rp17.000</td>\n",
       "      <td>Tangerang Selatan</td>\n",
       "      <td>Central Seblak Nusantara</td>\n",
       "      <td>2rb+ terjual</td>\n",
       "      <td>4.9</td>\n",
       "    </tr>\n",
       "    <tr>\n",
       "      <th>3</th>\n",
       "      <td>GFS Seblak Basah Instan Original - Tinggal Sed...</td>\n",
       "      <td>Rp16.618</td>\n",
       "      <td>Cimahi</td>\n",
       "      <td>Lakoca Official Shop</td>\n",
       "      <td>100+ terjual</td>\n",
       "      <td>4.9</td>\n",
       "    </tr>\n",
       "    <tr>\n",
       "      <th>4</th>\n",
       "      <td>Kerupuk seblak pedas</td>\n",
       "      <td>Rp15.000</td>\n",
       "      <td>Cimahi</td>\n",
       "      <td>MACALONI SNACK</td>\n",
       "      <td>10 terjual</td>\n",
       "      <td>5.0</td>\n",
       "    </tr>\n",
       "    <tr>\n",
       "      <th>...</th>\n",
       "      <td>...</td>\n",
       "      <td>...</td>\n",
       "      <td>...</td>\n",
       "      <td>...</td>\n",
       "      <td>...</td>\n",
       "      <td>...</td>\n",
       "    </tr>\n",
       "    <tr>\n",
       "      <th>834</th>\n",
       "      <td>KERUPUK SEBLAK PEDAS DAUN JERUK 100 GR</td>\n",
       "      <td>Rp4.500</td>\n",
       "      <td>Jakarta Selatan</td>\n",
       "      <td>BociKakang</td>\n",
       "      <td>500+ terjual</td>\n",
       "      <td>4.8</td>\n",
       "    </tr>\n",
       "    <tr>\n",
       "      <th>835</th>\n",
       "      <td>SEBLAK KERING 100gr DUA VARIAN RASA</td>\n",
       "      <td>Rp4.500</td>\n",
       "      <td>Jakarta Selatan</td>\n",
       "      <td>jajanangarut19</td>\n",
       "      <td>250+ terjual</td>\n",
       "      <td>4.6</td>\n",
       "    </tr>\n",
       "    <tr>\n",
       "      <th>836</th>\n",
       "      <td>Seblak instant isi korean tteokbokki dan odeng</td>\n",
       "      <td>Rp16.900</td>\n",
       "      <td>Kab. Bogor</td>\n",
       "      <td>dse_food</td>\n",
       "      <td>None</td>\n",
       "      <td>None</td>\n",
       "    </tr>\n",
       "    <tr>\n",
       "      <th>837</th>\n",
       "      <td>KERUPUK BAWANG WARNA MERAH KRUPUK SEBLAK MENTA...</td>\n",
       "      <td>Rp11.500</td>\n",
       "      <td>Jakarta Selatan</td>\n",
       "      <td>BociKakang</td>\n",
       "      <td>100+ terjual</td>\n",
       "      <td>4.9</td>\n",
       "    </tr>\n",
       "    <tr>\n",
       "      <th>838</th>\n",
       "      <td>KERUPUK PEDAS KRIWIL BANTAT ISI 250gr KRITING ...</td>\n",
       "      <td>Rp17.248</td>\n",
       "      <td>Jakarta Timur</td>\n",
       "      <td>AHR Jaya Snack</td>\n",
       "      <td>70+ terjual</td>\n",
       "      <td>5.0</td>\n",
       "    </tr>\n",
       "  </tbody>\n",
       "</table>\n",
       "<p>839 rows × 6 columns</p>\n",
       "</div>"
      ],
      "text/plain": [
       "                                           nama_produk     harga  \\\n",
       "0              Seblak Rafael, Seblak Coet Instan Halal  Rp25.000   \n",
       "1                  Basranger - Seblak Instan Basranger  Rp20.000   \n",
       "2    Seblak Instan Ceu Nthien Khas Bandung Rasana N...  Rp17.000   \n",
       "3    GFS Seblak Basah Instan Original - Tinggal Sed...  Rp16.618   \n",
       "4                                 Kerupuk seblak pedas  Rp15.000   \n",
       "..                                                 ...       ...   \n",
       "834             KERUPUK SEBLAK PEDAS DAUN JERUK 100 GR   Rp4.500   \n",
       "835                SEBLAK KERING 100gr DUA VARIAN RASA   Rp4.500   \n",
       "836     Seblak instant isi korean tteokbokki dan odeng  Rp16.900   \n",
       "837  KERUPUK BAWANG WARNA MERAH KRUPUK SEBLAK MENTA...  Rp11.500   \n",
       "838  KERUPUK PEDAS KRIWIL BANTAT ISI 250gr KRITING ...  Rp17.248   \n",
       "\n",
       "            lokasi_toko                 nama_toko banyak_terjual rating  \n",
       "0                 Depok         Brother Meat Shop   500+ terjual    5.0  \n",
       "1    Kab. Bandung Barat               DeveniDives           None   None  \n",
       "2     Tangerang Selatan  Central Seblak Nusantara   2rb+ terjual    4.9  \n",
       "3                Cimahi      Lakoca Official Shop   100+ terjual    4.9  \n",
       "4                Cimahi            MACALONI SNACK     10 terjual    5.0  \n",
       "..                  ...                       ...            ...    ...  \n",
       "834     Jakarta Selatan                BociKakang   500+ terjual    4.8  \n",
       "835     Jakarta Selatan            jajanangarut19   250+ terjual    4.6  \n",
       "836          Kab. Bogor                  dse_food           None   None  \n",
       "837     Jakarta Selatan                BociKakang   100+ terjual    4.9  \n",
       "838       Jakarta Timur            AHR Jaya Snack    70+ terjual    5.0  \n",
       "\n",
       "[839 rows x 6 columns]"
      ]
     },
     "execution_count": 4,
     "metadata": {},
     "output_type": "execute_result"
    }
   ],
   "source": [
    "import pandas as pd\n",
    "\n",
    "# Inisialisasi list kosong untuk setiap kolom\n",
    "nama_produk = []\n",
    "harga = []\n",
    "lokasi_toko = []\n",
    "nama_toko = []\n",
    "banyak_terjual = []\n",
    "rating = []\n",
    "\n",
    "# Mengambil data untuk setiap kolom dari 10 halaman\n",
    "for i in range(1, 11):\n",
    "    url = f\"https://www.tokopedia.com/search?navsource=&page={i}&q=seblak&srp_component_id=02.01.00.00&srp_page_id=&srp_page_title=&st=\"\n",
    "    driver.get(url)\n",
    "    bottom=False\n",
    "    a=0\n",
    "    while not bottom:\n",
    "        new_height = driver.execute_script(\"return document.body.scrollHeight\")\n",
    "        driver.execute_script(f\"window.scrollTo(0, {a});\")\n",
    "        if a > new_height:\n",
    "            bottom=True\n",
    "        a+=30\n",
    "    html = driver.page_source\n",
    "    soup = BeautifulSoup(html, \"html.parser\")\n",
    "    filter_iklan = soup.find_all('div', {'data-ssr':\"contentProductsSRPSSR\"})\n",
    "    for blok_noniklan in filter_iklan[0].find_all('div', class_=\"css-1asz3by\"):\n",
    "        # Mengambil data untuk setiap kolom pada halaman tersebut\n",
    "        listnama_produk =  blok_noniklan.find_all('div', attrs = {'data-testid':\"spnSRPProdName\"})\n",
    "        if listnama_produk == []:\n",
    "            nama_produk.append(None)\n",
    "        else:\n",
    "            nama_produk.append(listnama_produk[0].get_text())\n",
    "\n",
    "        listharga_produk =  blok_noniklan.find_all('div', attrs = {'data-testid':\"spnSRPProdPrice\"})\n",
    "        if listharga_produk == []:\n",
    "            harga.append(None)\n",
    "        else:\n",
    "            harga.append(listharga_produk[0].get_text())\n",
    "\n",
    "        listlokasi_toko =  blok_noniklan.find_all('span', {'data-testid':\"spnSRPProdTabShopLoc\"})\n",
    "        if listlokasi_toko == []:\n",
    "            lokasi_toko.append(None)\n",
    "        else:\n",
    "            lokasi_toko.append(listlokasi_toko[0].get_text())\n",
    "\n",
    "        listnama_toko =  blok_noniklan.find_all('span', {'class':\"prd_link-shop-name css-1kdc32b flip\"})\n",
    "        if listnama_toko == []:\n",
    "            nama_toko.append(None)\n",
    "        else:\n",
    "            nama_toko.append(listnama_toko[0].get_text())\n",
    "\n",
    "        listbanyak_terjual =  blok_noniklan.find_all('span', {'class':\"prd_label-integrity css-1sgek4h\"})\n",
    "        if listbanyak_terjual == []:\n",
    "            banyak_terjual.append(None)\n",
    "        else:\n",
    "            banyak_terjual.append(listbanyak_terjual[0].get_text())\n",
    "\n",
    "        listrating =  blok_noniklan.find_all('span', {'class':\"prd_rating-average-text css-t70v7i\"})\n",
    "        if listrating == []:\n",
    "            rating.append(None)\n",
    "        else:\n",
    "            rating.append(listrating[0].get_text())\n",
    "\n",
    "# Membuat DataFrame dari list yang telah dikumpulkan\n",
    "data = pd.DataFrame({\n",
    "    'nama_produk': nama_produk,\n",
    "    'harga': harga,\n",
    "    'lokasi_toko': lokasi_toko,\n",
    "    'nama_toko': nama_toko,\n",
    "    'banyak_terjual': banyak_terjual,\n",
    "    'rating': rating,\n",
    "})\n",
    "\n",
    "data"
   ]
  },
  {
   "cell_type": "markdown",
   "metadata": {},
   "source": [
    "# DATA PREPARATION"
   ]
  },
  {
   "cell_type": "markdown",
   "metadata": {},
   "source": [
    "*DATA EXPLORATION*"
   ]
  },
  {
   "cell_type": "code",
   "execution_count": 5,
   "metadata": {},
   "outputs": [
    {
     "data": {
      "text/html": [
       "<div>\n",
       "<style scoped>\n",
       "    .dataframe tbody tr th:only-of-type {\n",
       "        vertical-align: middle;\n",
       "    }\n",
       "\n",
       "    .dataframe tbody tr th {\n",
       "        vertical-align: top;\n",
       "    }\n",
       "\n",
       "    .dataframe thead th {\n",
       "        text-align: right;\n",
       "    }\n",
       "</style>\n",
       "<table border=\"1\" class=\"dataframe\">\n",
       "  <thead>\n",
       "    <tr style=\"text-align: right;\">\n",
       "      <th></th>\n",
       "      <th>nama_produk</th>\n",
       "      <th>harga</th>\n",
       "      <th>lokasi_toko</th>\n",
       "      <th>nama_toko</th>\n",
       "      <th>banyak_terjual</th>\n",
       "      <th>rating</th>\n",
       "    </tr>\n",
       "  </thead>\n",
       "  <tbody>\n",
       "    <tr>\n",
       "      <th>0</th>\n",
       "      <td>Seblak Rafael, Seblak Coet Instan Halal</td>\n",
       "      <td>Rp25.000</td>\n",
       "      <td>Depok</td>\n",
       "      <td>Brother Meat Shop</td>\n",
       "      <td>500+ terjual</td>\n",
       "      <td>5.0</td>\n",
       "    </tr>\n",
       "    <tr>\n",
       "      <th>1</th>\n",
       "      <td>Basranger - Seblak Instan Basranger</td>\n",
       "      <td>Rp20.000</td>\n",
       "      <td>Kab. Bandung Barat</td>\n",
       "      <td>DeveniDives</td>\n",
       "      <td>None</td>\n",
       "      <td>None</td>\n",
       "    </tr>\n",
       "    <tr>\n",
       "      <th>2</th>\n",
       "      <td>Seblak Instan Ceu Nthien Khas Bandung Rasana N...</td>\n",
       "      <td>Rp17.000</td>\n",
       "      <td>Tangerang Selatan</td>\n",
       "      <td>Central Seblak Nusantara</td>\n",
       "      <td>2rb+ terjual</td>\n",
       "      <td>4.9</td>\n",
       "    </tr>\n",
       "    <tr>\n",
       "      <th>3</th>\n",
       "      <td>GFS Seblak Basah Instan Original - Tinggal Sed...</td>\n",
       "      <td>Rp16.618</td>\n",
       "      <td>Cimahi</td>\n",
       "      <td>Lakoca Official Shop</td>\n",
       "      <td>100+ terjual</td>\n",
       "      <td>4.9</td>\n",
       "    </tr>\n",
       "    <tr>\n",
       "      <th>4</th>\n",
       "      <td>Kerupuk seblak pedas</td>\n",
       "      <td>Rp15.000</td>\n",
       "      <td>Cimahi</td>\n",
       "      <td>MACALONI SNACK</td>\n",
       "      <td>10 terjual</td>\n",
       "      <td>5.0</td>\n",
       "    </tr>\n",
       "    <tr>\n",
       "      <th>5</th>\n",
       "      <td>Seblak Rafael, Seblak Coet Instan Halal</td>\n",
       "      <td>Rp25.000</td>\n",
       "      <td>Depok</td>\n",
       "      <td>Brother Meat Shop</td>\n",
       "      <td>500+ terjual</td>\n",
       "      <td>5.0</td>\n",
       "    </tr>\n",
       "    <tr>\n",
       "      <th>6</th>\n",
       "      <td>SEBLAK INSTANT TERMURAH</td>\n",
       "      <td>Rp4.450</td>\n",
       "      <td>Jakarta Timur</td>\n",
       "      <td>Pusat Cuankie &amp; Cemilan Frozen</td>\n",
       "      <td>10rb+ terjual</td>\n",
       "      <td>4.8</td>\n",
       "    </tr>\n",
       "    <tr>\n",
       "      <th>7</th>\n",
       "      <td>Seblak Instan Pedas Home Made</td>\n",
       "      <td>Rp3.500</td>\n",
       "      <td>Tangerang Selatan</td>\n",
       "      <td>the Dhecip</td>\n",
       "      <td>3rb+ terjual</td>\n",
       "      <td>4.9</td>\n",
       "    </tr>\n",
       "    <tr>\n",
       "      <th>8</th>\n",
       "      <td>Kylafood Seblak Cup</td>\n",
       "      <td>Rp11.000</td>\n",
       "      <td>Jakarta Selatan</td>\n",
       "      <td>Kylafood Jakarta</td>\n",
       "      <td>100+ terjual</td>\n",
       "      <td>5.0</td>\n",
       "    </tr>\n",
       "    <tr>\n",
       "      <th>9</th>\n",
       "      <td>seblak ceker pedas</td>\n",
       "      <td>Rp8.950</td>\n",
       "      <td>Tangerang Selatan</td>\n",
       "      <td>snack_it</td>\n",
       "      <td>250+ terjual</td>\n",
       "      <td>4.9</td>\n",
       "    </tr>\n",
       "  </tbody>\n",
       "</table>\n",
       "</div>"
      ],
      "text/plain": [
       "                                         nama_produk     harga  \\\n",
       "0            Seblak Rafael, Seblak Coet Instan Halal  Rp25.000   \n",
       "1                Basranger - Seblak Instan Basranger  Rp20.000   \n",
       "2  Seblak Instan Ceu Nthien Khas Bandung Rasana N...  Rp17.000   \n",
       "3  GFS Seblak Basah Instan Original - Tinggal Sed...  Rp16.618   \n",
       "4                               Kerupuk seblak pedas  Rp15.000   \n",
       "5            Seblak Rafael, Seblak Coet Instan Halal  Rp25.000   \n",
       "6                            SEBLAK INSTANT TERMURAH   Rp4.450   \n",
       "7                      Seblak Instan Pedas Home Made   Rp3.500   \n",
       "8                                Kylafood Seblak Cup  Rp11.000   \n",
       "9                                 seblak ceker pedas   Rp8.950   \n",
       "\n",
       "          lokasi_toko                       nama_toko banyak_terjual rating  \n",
       "0               Depok               Brother Meat Shop   500+ terjual    5.0  \n",
       "1  Kab. Bandung Barat                     DeveniDives           None   None  \n",
       "2   Tangerang Selatan        Central Seblak Nusantara   2rb+ terjual    4.9  \n",
       "3              Cimahi            Lakoca Official Shop   100+ terjual    4.9  \n",
       "4              Cimahi                  MACALONI SNACK     10 terjual    5.0  \n",
       "5               Depok               Brother Meat Shop   500+ terjual    5.0  \n",
       "6       Jakarta Timur  Pusat Cuankie & Cemilan Frozen  10rb+ terjual    4.8  \n",
       "7   Tangerang Selatan                      the Dhecip   3rb+ terjual    4.9  \n",
       "8     Jakarta Selatan                Kylafood Jakarta   100+ terjual    5.0  \n",
       "9   Tangerang Selatan                        snack_it   250+ terjual    4.9  "
      ]
     },
     "execution_count": 5,
     "metadata": {},
     "output_type": "execute_result"
    }
   ],
   "source": [
    "#cek 10 baris pertama dari data\n",
    "data.head(10)"
   ]
  },
  {
   "cell_type": "markdown",
   "metadata": {},
   "source": [
    "Terlihat bahwa data terdiri dari 7 kolom yaitu, nama_produk, harga, lokasi_toko, nama_toko, banyak_terjual, rating, dan link."
   ]
  },
  {
   "cell_type": "code",
   "execution_count": 6,
   "metadata": {},
   "outputs": [
    {
     "name": "stdout",
     "output_type": "stream",
     "text": [
      "<class 'pandas.core.frame.DataFrame'>\n",
      "RangeIndex: 839 entries, 0 to 838\n",
      "Data columns (total 6 columns):\n",
      " #   Column          Non-Null Count  Dtype \n",
      "---  ------          --------------  ----- \n",
      " 0   nama_produk     839 non-null    object\n",
      " 1   harga           839 non-null    object\n",
      " 2   lokasi_toko     839 non-null    object\n",
      " 3   nama_toko       838 non-null    object\n",
      " 4   banyak_terjual  807 non-null    object\n",
      " 5   rating          780 non-null    object\n",
      "dtypes: object(6)\n",
      "memory usage: 39.5+ KB\n"
     ]
    }
   ],
   "source": [
    "#menampilkan informasi rangkuman data\n",
    "data.info()"
   ]
  },
  {
   "cell_type": "markdown",
   "metadata": {},
   "source": [
    "Data terdiri dari 300+ baris. Terlihat bahwa masih beberapa tipe data yang salah dari kolom pada dataframe, harga dalam rupiah seharusnya bertipe integer, banyak_terjual seharusnya bertipe integer, dan rating seharusnya bertipe float. Sehingga selanjutnya kolom - kolom dataframe tersebut akan diubah menjadi tipe yang sesuai"
   ]
  },
  {
   "cell_type": "code",
   "execution_count": 7,
   "metadata": {},
   "outputs": [
    {
     "data": {
      "text/plain": [
       "nama_produk        0\n",
       "harga              0\n",
       "lokasi_toko        0\n",
       "nama_toko          1\n",
       "banyak_terjual    32\n",
       "rating            59\n",
       "dtype: int64"
      ]
     },
     "execution_count": 7,
     "metadata": {},
     "output_type": "execute_result"
    }
   ],
   "source": [
    "data.isnull().sum()"
   ]
  },
  {
   "cell_type": "markdown",
   "metadata": {},
   "source": [
    "Pada kolom banyak_terjual dan rating terdapat missing value yang menandakan bahwa terdapat beberapa product yang belum dibeli maupun belum diberi rating, sehingga missing value tersebut akan di handle"
   ]
  },
  {
   "cell_type": "code",
   "execution_count": 8,
   "metadata": {},
   "outputs": [
    {
     "data": {
      "text/plain": [
       "89"
      ]
     },
     "execution_count": 8,
     "metadata": {},
     "output_type": "execute_result"
    }
   ],
   "source": [
    "#Cek data duplikat\n",
    "data.duplicated().sum()"
   ]
  },
  {
   "cell_type": "markdown",
   "metadata": {},
   "source": [
    "Terdapat beberapa duplikasi pada data, maka baris duplikasi tersebut akan di drop"
   ]
  },
  {
   "cell_type": "markdown",
   "metadata": {},
   "source": [
    "*DATA CLEANING*"
   ]
  },
  {
   "cell_type": "code",
   "execution_count": 9,
   "metadata": {},
   "outputs": [],
   "source": [
    "#drop data duplikat\n",
    "data.drop_duplicates(inplace=True)"
   ]
  },
  {
   "cell_type": "code",
   "execution_count": 10,
   "metadata": {},
   "outputs": [],
   "source": [
    "#handle missing value dengan mereplace dengan 0\n",
    "data = data.fillna('0')"
   ]
  },
  {
   "cell_type": "code",
   "execution_count": 11,
   "metadata": {},
   "outputs": [
    {
     "data": {
      "text/plain": [
       "nama_produk       0\n",
       "harga             0\n",
       "lokasi_toko       0\n",
       "nama_toko         0\n",
       "banyak_terjual    0\n",
       "rating            0\n",
       "dtype: int64"
      ]
     },
     "execution_count": 11,
     "metadata": {},
     "output_type": "execute_result"
    }
   ],
   "source": [
    "#cek missing value\n",
    "data.isnull().sum()"
   ]
  },
  {
   "cell_type": "code",
   "execution_count": 12,
   "metadata": {},
   "outputs": [
    {
     "data": {
      "text/html": [
       "<div>\n",
       "<style scoped>\n",
       "    .dataframe tbody tr th:only-of-type {\n",
       "        vertical-align: middle;\n",
       "    }\n",
       "\n",
       "    .dataframe tbody tr th {\n",
       "        vertical-align: top;\n",
       "    }\n",
       "\n",
       "    .dataframe thead th {\n",
       "        text-align: right;\n",
       "    }\n",
       "</style>\n",
       "<table border=\"1\" class=\"dataframe\">\n",
       "  <thead>\n",
       "    <tr style=\"text-align: right;\">\n",
       "      <th></th>\n",
       "      <th>nama_produk</th>\n",
       "      <th>harga</th>\n",
       "      <th>lokasi_toko</th>\n",
       "      <th>nama_toko</th>\n",
       "      <th>banyak_terjual</th>\n",
       "      <th>rating</th>\n",
       "    </tr>\n",
       "  </thead>\n",
       "  <tbody>\n",
       "    <tr>\n",
       "      <th>0</th>\n",
       "      <td>Seblak Rafael, Seblak Coet Instan Halal</td>\n",
       "      <td>25000</td>\n",
       "      <td>Depok</td>\n",
       "      <td>Brother Meat Shop</td>\n",
       "      <td>500</td>\n",
       "      <td>5.0</td>\n",
       "    </tr>\n",
       "    <tr>\n",
       "      <th>1</th>\n",
       "      <td>Basranger - Seblak Instan Basranger</td>\n",
       "      <td>20000</td>\n",
       "      <td>Kab. Bandung Barat</td>\n",
       "      <td>DeveniDives</td>\n",
       "      <td>0</td>\n",
       "      <td>0</td>\n",
       "    </tr>\n",
       "    <tr>\n",
       "      <th>2</th>\n",
       "      <td>Seblak Instan Ceu Nthien Khas Bandung Rasana N...</td>\n",
       "      <td>17000</td>\n",
       "      <td>Tangerang Selatan</td>\n",
       "      <td>Central Seblak Nusantara</td>\n",
       "      <td>2000</td>\n",
       "      <td>4.9</td>\n",
       "    </tr>\n",
       "    <tr>\n",
       "      <th>3</th>\n",
       "      <td>GFS Seblak Basah Instan Original - Tinggal Sed...</td>\n",
       "      <td>16618</td>\n",
       "      <td>Cimahi</td>\n",
       "      <td>Lakoca Official Shop</td>\n",
       "      <td>100</td>\n",
       "      <td>4.9</td>\n",
       "    </tr>\n",
       "    <tr>\n",
       "      <th>4</th>\n",
       "      <td>Kerupuk seblak pedas</td>\n",
       "      <td>15000</td>\n",
       "      <td>Cimahi</td>\n",
       "      <td>MACALONI SNACK</td>\n",
       "      <td>10</td>\n",
       "      <td>5.0</td>\n",
       "    </tr>\n",
       "    <tr>\n",
       "      <th>...</th>\n",
       "      <td>...</td>\n",
       "      <td>...</td>\n",
       "      <td>...</td>\n",
       "      <td>...</td>\n",
       "      <td>...</td>\n",
       "      <td>...</td>\n",
       "    </tr>\n",
       "    <tr>\n",
       "      <th>828</th>\n",
       "      <td>seblak instan jawara pedas sehot bandung</td>\n",
       "      <td>12900</td>\n",
       "      <td>Cimahi</td>\n",
       "      <td>cemilan Bandungstore</td>\n",
       "      <td>60</td>\n",
       "      <td>4.9</td>\n",
       "    </tr>\n",
       "    <tr>\n",
       "      <th>829</th>\n",
       "      <td>seblak basreng pedas original exstra daun jeru...</td>\n",
       "      <td>14500</td>\n",
       "      <td>Kab. Bandung</td>\n",
       "      <td>seblak bandung99</td>\n",
       "      <td>26</td>\n",
       "      <td>4.8</td>\n",
       "    </tr>\n",
       "    <tr>\n",
       "      <th>830</th>\n",
       "      <td>Kerupuk Seblak RAFAEL / Krupuk Seblak Pedas Ba...</td>\n",
       "      <td>16000</td>\n",
       "      <td>Tangerang Selatan</td>\n",
       "      <td>ANUM SARI</td>\n",
       "      <td>25</td>\n",
       "      <td>4.3</td>\n",
       "    </tr>\n",
       "    <tr>\n",
       "      <th>832</th>\n",
       "      <td>KERUPUK SEBLAK KENCUR PEDAS 1kG</td>\n",
       "      <td>45000</td>\n",
       "      <td>Depok</td>\n",
       "      <td>AQILA FROZEN FOOD JAKARTA</td>\n",
       "      <td>40</td>\n",
       "      <td>0</td>\n",
       "    </tr>\n",
       "    <tr>\n",
       "      <th>833</th>\n",
       "      <td>SIOMAY ISI 100PCS TOPPING BASO ACI / SEBLAK</td>\n",
       "      <td>35000</td>\n",
       "      <td>Jakarta Timur</td>\n",
       "      <td>Pusat Cuankie &amp; Cemilan Frozen</td>\n",
       "      <td>11</td>\n",
       "      <td>4.5</td>\n",
       "    </tr>\n",
       "  </tbody>\n",
       "</table>\n",
       "<p>750 rows × 6 columns</p>\n",
       "</div>"
      ],
      "text/plain": [
       "                                           nama_produk  harga  \\\n",
       "0              Seblak Rafael, Seblak Coet Instan Halal  25000   \n",
       "1                  Basranger - Seblak Instan Basranger  20000   \n",
       "2    Seblak Instan Ceu Nthien Khas Bandung Rasana N...  17000   \n",
       "3    GFS Seblak Basah Instan Original - Tinggal Sed...  16618   \n",
       "4                                 Kerupuk seblak pedas  15000   \n",
       "..                                                 ...    ...   \n",
       "828           seblak instan jawara pedas sehot bandung  12900   \n",
       "829  seblak basreng pedas original exstra daun jeru...  14500   \n",
       "830  Kerupuk Seblak RAFAEL / Krupuk Seblak Pedas Ba...  16000   \n",
       "832                    KERUPUK SEBLAK KENCUR PEDAS 1kG  45000   \n",
       "833        SIOMAY ISI 100PCS TOPPING BASO ACI / SEBLAK  35000   \n",
       "\n",
       "            lokasi_toko                       nama_toko banyak_terjual rating  \n",
       "0                 Depok               Brother Meat Shop            500    5.0  \n",
       "1    Kab. Bandung Barat                     DeveniDives              0      0  \n",
       "2     Tangerang Selatan        Central Seblak Nusantara           2000    4.9  \n",
       "3                Cimahi            Lakoca Official Shop            100    4.9  \n",
       "4                Cimahi                  MACALONI SNACK             10    5.0  \n",
       "..                  ...                             ...            ...    ...  \n",
       "828              Cimahi            cemilan Bandungstore             60    4.9  \n",
       "829        Kab. Bandung                seblak bandung99             26    4.8  \n",
       "830   Tangerang Selatan                       ANUM SARI             25    4.3  \n",
       "832               Depok       AQILA FROZEN FOOD JAKARTA             40      0  \n",
       "833       Jakarta Timur  Pusat Cuankie & Cemilan Frozen             11    4.5  \n",
       "\n",
       "[750 rows x 6 columns]"
      ]
     },
     "execution_count": 12,
     "metadata": {},
     "output_type": "execute_result"
    }
   ],
   "source": [
    "#Membersihkan observasi dari tiap - tiap kolom yang ada pada data agar tipenya bisa disesuaikan\n",
    "data['harga'] = data['harga'].str.replace('Rp','')\n",
    "data['harga'] = data['harga'].str.replace('.','')\n",
    "data['banyak_terjual'] = data['banyak_terjual'].str.replace('terjual', '')\n",
    "data['banyak_terjual'] = data['banyak_terjual'].str.replace(' ', '')\n",
    "data['banyak_terjual'] = data['banyak_terjual'].str.replace('+', '')\n",
    "data['banyak_terjual'] = data['banyak_terjual'].str.replace('rb', '000')\n",
    "data"
   ]
  },
  {
   "cell_type": "code",
   "execution_count": 13,
   "metadata": {},
   "outputs": [
    {
     "data": {
      "text/html": [
       "<div>\n",
       "<style scoped>\n",
       "    .dataframe tbody tr th:only-of-type {\n",
       "        vertical-align: middle;\n",
       "    }\n",
       "\n",
       "    .dataframe tbody tr th {\n",
       "        vertical-align: top;\n",
       "    }\n",
       "\n",
       "    .dataframe thead th {\n",
       "        text-align: right;\n",
       "    }\n",
       "</style>\n",
       "<table border=\"1\" class=\"dataframe\">\n",
       "  <thead>\n",
       "    <tr style=\"text-align: right;\">\n",
       "      <th></th>\n",
       "      <th>nama_produk</th>\n",
       "      <th>harga</th>\n",
       "      <th>lokasi_toko</th>\n",
       "      <th>nama_toko</th>\n",
       "      <th>banyak_terjual</th>\n",
       "      <th>rating</th>\n",
       "    </tr>\n",
       "  </thead>\n",
       "  <tbody>\n",
       "    <tr>\n",
       "      <th>0</th>\n",
       "      <td>Seblak Rafael, Seblak Coet Instan Halal</td>\n",
       "      <td>25000</td>\n",
       "      <td>Depok</td>\n",
       "      <td>Brother Meat Shop</td>\n",
       "      <td>500</td>\n",
       "      <td>5.0</td>\n",
       "    </tr>\n",
       "    <tr>\n",
       "      <th>1</th>\n",
       "      <td>Basranger - Seblak Instan Basranger</td>\n",
       "      <td>20000</td>\n",
       "      <td>Kab. Bandung Barat</td>\n",
       "      <td>DeveniDives</td>\n",
       "      <td>0</td>\n",
       "      <td>0.0</td>\n",
       "    </tr>\n",
       "    <tr>\n",
       "      <th>2</th>\n",
       "      <td>Seblak Instan Ceu Nthien Khas Bandung Rasana N...</td>\n",
       "      <td>17000</td>\n",
       "      <td>Tangerang Selatan</td>\n",
       "      <td>Central Seblak Nusantara</td>\n",
       "      <td>2000</td>\n",
       "      <td>4.9</td>\n",
       "    </tr>\n",
       "    <tr>\n",
       "      <th>3</th>\n",
       "      <td>GFS Seblak Basah Instan Original - Tinggal Sed...</td>\n",
       "      <td>16618</td>\n",
       "      <td>Cimahi</td>\n",
       "      <td>Lakoca Official Shop</td>\n",
       "      <td>100</td>\n",
       "      <td>4.9</td>\n",
       "    </tr>\n",
       "    <tr>\n",
       "      <th>4</th>\n",
       "      <td>Kerupuk seblak pedas</td>\n",
       "      <td>15000</td>\n",
       "      <td>Cimahi</td>\n",
       "      <td>MACALONI SNACK</td>\n",
       "      <td>10</td>\n",
       "      <td>5.0</td>\n",
       "    </tr>\n",
       "    <tr>\n",
       "      <th>...</th>\n",
       "      <td>...</td>\n",
       "      <td>...</td>\n",
       "      <td>...</td>\n",
       "      <td>...</td>\n",
       "      <td>...</td>\n",
       "      <td>...</td>\n",
       "    </tr>\n",
       "    <tr>\n",
       "      <th>828</th>\n",
       "      <td>seblak instan jawara pedas sehot bandung</td>\n",
       "      <td>12900</td>\n",
       "      <td>Cimahi</td>\n",
       "      <td>cemilan Bandungstore</td>\n",
       "      <td>60</td>\n",
       "      <td>4.9</td>\n",
       "    </tr>\n",
       "    <tr>\n",
       "      <th>829</th>\n",
       "      <td>seblak basreng pedas original exstra daun jeru...</td>\n",
       "      <td>14500</td>\n",
       "      <td>Kab. Bandung</td>\n",
       "      <td>seblak bandung99</td>\n",
       "      <td>26</td>\n",
       "      <td>4.8</td>\n",
       "    </tr>\n",
       "    <tr>\n",
       "      <th>830</th>\n",
       "      <td>Kerupuk Seblak RAFAEL / Krupuk Seblak Pedas Ba...</td>\n",
       "      <td>16000</td>\n",
       "      <td>Tangerang Selatan</td>\n",
       "      <td>ANUM SARI</td>\n",
       "      <td>25</td>\n",
       "      <td>4.3</td>\n",
       "    </tr>\n",
       "    <tr>\n",
       "      <th>832</th>\n",
       "      <td>KERUPUK SEBLAK KENCUR PEDAS 1kG</td>\n",
       "      <td>45000</td>\n",
       "      <td>Depok</td>\n",
       "      <td>AQILA FROZEN FOOD JAKARTA</td>\n",
       "      <td>40</td>\n",
       "      <td>0.0</td>\n",
       "    </tr>\n",
       "    <tr>\n",
       "      <th>833</th>\n",
       "      <td>SIOMAY ISI 100PCS TOPPING BASO ACI / SEBLAK</td>\n",
       "      <td>35000</td>\n",
       "      <td>Jakarta Timur</td>\n",
       "      <td>Pusat Cuankie &amp; Cemilan Frozen</td>\n",
       "      <td>11</td>\n",
       "      <td>4.5</td>\n",
       "    </tr>\n",
       "  </tbody>\n",
       "</table>\n",
       "<p>750 rows × 6 columns</p>\n",
       "</div>"
      ],
      "text/plain": [
       "                                           nama_produk  harga  \\\n",
       "0              Seblak Rafael, Seblak Coet Instan Halal  25000   \n",
       "1                  Basranger - Seblak Instan Basranger  20000   \n",
       "2    Seblak Instan Ceu Nthien Khas Bandung Rasana N...  17000   \n",
       "3    GFS Seblak Basah Instan Original - Tinggal Sed...  16618   \n",
       "4                                 Kerupuk seblak pedas  15000   \n",
       "..                                                 ...    ...   \n",
       "828           seblak instan jawara pedas sehot bandung  12900   \n",
       "829  seblak basreng pedas original exstra daun jeru...  14500   \n",
       "830  Kerupuk Seblak RAFAEL / Krupuk Seblak Pedas Ba...  16000   \n",
       "832                    KERUPUK SEBLAK KENCUR PEDAS 1kG  45000   \n",
       "833        SIOMAY ISI 100PCS TOPPING BASO ACI / SEBLAK  35000   \n",
       "\n",
       "            lokasi_toko                       nama_toko  banyak_terjual  \\\n",
       "0                 Depok               Brother Meat Shop             500   \n",
       "1    Kab. Bandung Barat                     DeveniDives               0   \n",
       "2     Tangerang Selatan        Central Seblak Nusantara            2000   \n",
       "3                Cimahi            Lakoca Official Shop             100   \n",
       "4                Cimahi                  MACALONI SNACK              10   \n",
       "..                  ...                             ...             ...   \n",
       "828              Cimahi            cemilan Bandungstore              60   \n",
       "829        Kab. Bandung                seblak bandung99              26   \n",
       "830   Tangerang Selatan                       ANUM SARI              25   \n",
       "832               Depok       AQILA FROZEN FOOD JAKARTA              40   \n",
       "833       Jakarta Timur  Pusat Cuankie & Cemilan Frozen              11   \n",
       "\n",
       "     rating  \n",
       "0       5.0  \n",
       "1       0.0  \n",
       "2       4.9  \n",
       "3       4.9  \n",
       "4       5.0  \n",
       "..      ...  \n",
       "828     4.9  \n",
       "829     4.8  \n",
       "830     4.3  \n",
       "832     0.0  \n",
       "833     4.5  \n",
       "\n",
       "[750 rows x 6 columns]"
      ]
     },
     "execution_count": 13,
     "metadata": {},
     "output_type": "execute_result"
    }
   ],
   "source": [
    "#Mengganti tipe data\n",
    "data['harga'] = data['harga'].astype(int)\n",
    "data['banyak_terjual'] = data['banyak_terjual'].astype(int)\n",
    "data['rating'] = data['rating'].astype(float)\n",
    "data"
   ]
  },
  {
   "cell_type": "code",
   "execution_count": 14,
   "metadata": {},
   "outputs": [
    {
     "name": "stdout",
     "output_type": "stream",
     "text": [
      "<class 'pandas.core.frame.DataFrame'>\n",
      "Index: 750 entries, 0 to 833\n",
      "Data columns (total 6 columns):\n",
      " #   Column          Non-Null Count  Dtype  \n",
      "---  ------          --------------  -----  \n",
      " 0   nama_produk     750 non-null    object \n",
      " 1   harga           750 non-null    int32  \n",
      " 2   lokasi_toko     750 non-null    object \n",
      " 3   nama_toko       750 non-null    object \n",
      " 4   banyak_terjual  750 non-null    int32  \n",
      " 5   rating          750 non-null    float64\n",
      "dtypes: float64(1), int32(2), object(3)\n",
      "memory usage: 35.2+ KB\n"
     ]
    }
   ],
   "source": [
    "#cek hasil pembersihan data\n",
    "data.info()"
   ]
  },
  {
   "cell_type": "markdown",
   "metadata": {},
   "source": [
    "Data telah berhasil dibersihkan"
   ]
  },
  {
   "cell_type": "markdown",
   "metadata": {},
   "source": [
    "# Business Understanding & Problem Statement"
   ]
  },
  {
   "cell_type": "markdown",
   "metadata": {},
   "source": [
    "`Problem Statements with SMART framework:`\n",
    "\n",
    "1. **Specific**:  Menganalisis penjualan produk seblak di platform Tokopedia untuk mengetahui apakah ada minat yang besar dari masyarakat   terhadap produk tersebut.\n",
    "\n",
    "2. **Measurable**: Mengumpulkan data penjualan produk seblak dari Tokopedia sebanyak 10 page menggunakan teknik web scraping. \n",
    "\n",
    "3. **Achievable**: Akan dilakukan analisis pada jumlah penjualan, ulasan pelanggan, dan rating produk.\n",
    "\n",
    "4. **Relevant**: Analisis data akan membantu untuk mendapatkan pemahaman yang lebih baik tentang popularitas dan keberhasilan produk.\n",
    "\n",
    "5. **Time-Bound**: Pengumpulan data menggunakan web scraping akan diselesaikan dalam waktu 2 hari, kemudian 3 hari untuk menganalisis data. Dengan demikian, keseluruhan proyek ini diharapkan selesai dalam waktu 5 hari.\n",
    "\n",
    "`Problem statement:`\n",
    "\n",
    "Proyek ini bertujuan untuk menganalisis minat masyarakat terhadap produk seblak di platform Tokopedia dengan mengumpulkan data penjualan produk seblak dari 10 halaman menggunakan web scraping, dan kemudian menganalisis jumlah penjualan, ulasan pelanggan, dan rating produk dalam total waktu 5 hari.\n",
    "\n"
   ]
  },
  {
   "cell_type": "markdown",
   "metadata": {},
   "source": [
    "# ANALYSIS"
   ]
  },
  {
   "cell_type": "markdown",
   "metadata": {},
   "source": [
    "*SOAL NO. 1*"
   ]
  },
  {
   "cell_type": "markdown",
   "metadata": {},
   "source": [
    "Untuk mencari tahu tentang distribusi dan persebaran dari data, kita akan menghitung beberapa aspek statistik yaitu mean, median, standar deviasi, skewness, dan kurtosis dari kolom harga, banyak produk terjual, dan rating produk."
   ]
  },
  {
   "cell_type": "code",
   "execution_count": 15,
   "metadata": {},
   "outputs": [
    {
     "data": {
      "text/plain": [
       "count       750.000000\n",
       "mean      23819.762667\n",
       "std       31686.354981\n",
       "min         400.000000\n",
       "25%        8962.250000\n",
       "50%       15000.000000\n",
       "75%       25500.000000\n",
       "max      499999.000000\n",
       "Name: harga, dtype: float64"
      ]
     },
     "execution_count": 15,
     "metadata": {},
     "output_type": "execute_result"
    }
   ],
   "source": [
    "#Menampilkan mean, median, dan standar deviasi dari harga seblak\n",
    "data['harga'].describe()"
   ]
  },
  {
   "cell_type": "code",
   "execution_count": 16,
   "metadata": {},
   "outputs": [
    {
     "name": "stdout",
     "output_type": "stream",
     "text": [
      "Skewness: 6.483711673622601\n",
      "Kurtosis: 74.56022303755336\n"
     ]
    }
   ],
   "source": [
    "#menampilkan skewness dan kurtosis dari harga seblak\n",
    "print(f\"Skewness: {data['harga'].skew()}\")\n",
    "print(f\"Kurtosis: {data['harga'].kurtosis()}\")"
   ]
  },
  {
   "cell_type": "markdown",
   "metadata": {},
   "source": [
    "`Dari nilai skewness sebesar 6.567735588348815, kita dapat menyimpulkan bahwa distribusi data memiliki skewness yang sangat positif. Dengan kata lain, terdapat kecenderungan bahwa terdapat sejumlah besar nilai yang jauh lebih tinggi dari nilai tengah.`\n",
    "\n",
    "`nilai kurtosis sebesar 75.81048403590711, yang menandakan adanya leptokurtic distributions. Ini menandakan bahwa terdapat konsentrasi yang sangat tinggi dari nilai-nilai di sekitar nilai tengah, yang bisa menunjukkan adanya outlier yang signifikan atau distribusi yang sangat tidak normal.`"
   ]
  },
  {
   "cell_type": "code",
   "execution_count": 17,
   "metadata": {},
   "outputs": [
    {
     "data": {
      "text/plain": [
       "count      750.000000\n",
       "mean       410.976000\n",
       "std       1225.002899\n",
       "min          0.000000\n",
       "25%         20.000000\n",
       "50%         80.000000\n",
       "75%        250.000000\n",
       "max      10000.000000\n",
       "Name: banyak_terjual, dtype: float64"
      ]
     },
     "execution_count": 17,
     "metadata": {},
     "output_type": "execute_result"
    }
   ],
   "source": [
    "#Menampilkan mean, median, dan standar deviasi dari banyak seblak yang terjual\n",
    "data['banyak_terjual'].describe()"
   ]
  },
  {
   "cell_type": "code",
   "execution_count": 18,
   "metadata": {},
   "outputs": [
    {
     "name": "stdout",
     "output_type": "stream",
     "text": [
      "Skewness: 5.708079487256087\n",
      "Kurtosis: 37.44593121510346\n"
     ]
    }
   ],
   "source": [
    "#menampilkan skewness dan kurtosis dari banyak seblak yang terjual\n",
    "print(f\"Skewness: {data['banyak_terjual'].skew()}\")\n",
    "print(f\"Kurtosis: {data['banyak_terjual'].kurtosis()}\")"
   ]
  },
  {
   "cell_type": "markdown",
   "metadata": {},
   "source": [
    "`Dari nilai skewness sebesar 6.2332840985340034, kita dapat menyimpulkan bahwa distribusi data memiliki skewness yang sangat positif. Dengan kata lain, terdapat kecenderungan bahwa terdapat sejumlah besar nilai yang jauh lebih tinggi dari nilai tengah.`\n",
    "\n",
    "`nilai kurtosis sebesar 44.65768102787601, yang menandakan adanya leptokurtic distributions. Ini menandakan bahwa terdapat konsentrasi yang sangat tinggi dari nilai-nilai di sekitar nilai tengah, yang bisa menunjukkan adanya outlier yang signifikan atau distribusi yang sangat tidak normal.`"
   ]
  },
  {
   "cell_type": "code",
   "execution_count": 19,
   "metadata": {},
   "outputs": [
    {
     "data": {
      "text/plain": [
       "count    750.000000\n",
       "mean       4.529200\n",
       "std        1.271423\n",
       "min        0.000000\n",
       "25%        4.800000\n",
       "50%        4.900000\n",
       "75%        5.000000\n",
       "max        5.000000\n",
       "Name: rating, dtype: float64"
      ]
     },
     "execution_count": 19,
     "metadata": {},
     "output_type": "execute_result"
    }
   ],
   "source": [
    "#Menampilkan mean, median, dan standar deviasi dari rating produk seblak\n",
    "data['rating'].describe()"
   ]
  },
  {
   "cell_type": "code",
   "execution_count": 20,
   "metadata": {},
   "outputs": [
    {
     "name": "stdout",
     "output_type": "stream",
     "text": [
      "Skewness: -3.241422131051583\n",
      "Kurtosis: 8.701502285144809\n"
     ]
    }
   ],
   "source": [
    "#menampilkan skewness dan kurtosis dari rating produk seblak\n",
    "print(f\"Skewness: {data['rating'].skew()}\")\n",
    "print(f\"Kurtosis: {data['rating'].kurtosis()}\")"
   ]
  },
  {
   "cell_type": "markdown",
   "metadata": {},
   "source": [
    "`Dari nilai skewness sebesar -3.1874018048003685, kita dapat menyimpulkan bahwa distribusi data memiliki skewness yang sangat negatif. yang berarti terdapat kecenderungan bahwa terdapat sejumlah besar nilai yang jauh lebih rendah dari nilai tengah.`\n",
    "\n",
    "`nilai kurtosis sebesar 8.394443381583327, yang menandakan adanya leptokurtic distributions. Ini menandakan bahwa terdapat konsentrasi yang sangat tinggi dari nilai-nilai di sekitar nilai tengah, yang bisa menunjukkan adanya outlier yang signifikan atau distribusi yang sangat tidak normal.`"
   ]
  },
  {
   "cell_type": "markdown",
   "metadata": {},
   "source": [
    "*SOAL NO. 2*"
   ]
  },
  {
   "cell_type": "markdown",
   "metadata": {},
   "source": [
    "Akan dibuat interval kepercayaan untuk memperkirakan potensi pendapatan yang mungkin diperoleh per bulannya. Terlebih dahulu akan dibuat kolom pendapatan/bulan dengan mengalikan kolom harga dan kolom banyak_terjual."
   ]
  },
  {
   "cell_type": "code",
   "execution_count": 21,
   "metadata": {},
   "outputs": [],
   "source": [
    "from scipy import stats\n",
    "import numpy as np"
   ]
  },
  {
   "cell_type": "code",
   "execution_count": 22,
   "metadata": {},
   "outputs": [
    {
     "data": {
      "text/html": [
       "<div>\n",
       "<style scoped>\n",
       "    .dataframe tbody tr th:only-of-type {\n",
       "        vertical-align: middle;\n",
       "    }\n",
       "\n",
       "    .dataframe tbody tr th {\n",
       "        vertical-align: top;\n",
       "    }\n",
       "\n",
       "    .dataframe thead th {\n",
       "        text-align: right;\n",
       "    }\n",
       "</style>\n",
       "<table border=\"1\" class=\"dataframe\">\n",
       "  <thead>\n",
       "    <tr style=\"text-align: right;\">\n",
       "      <th></th>\n",
       "      <th>nama_produk</th>\n",
       "      <th>harga</th>\n",
       "      <th>lokasi_toko</th>\n",
       "      <th>nama_toko</th>\n",
       "      <th>banyak_terjual</th>\n",
       "      <th>rating</th>\n",
       "      <th>total_pendapatan/bulan</th>\n",
       "    </tr>\n",
       "  </thead>\n",
       "  <tbody>\n",
       "    <tr>\n",
       "      <th>0</th>\n",
       "      <td>Seblak Rafael, Seblak Coet Instan Halal</td>\n",
       "      <td>25000</td>\n",
       "      <td>Depok</td>\n",
       "      <td>Brother Meat Shop</td>\n",
       "      <td>500</td>\n",
       "      <td>5.0</td>\n",
       "      <td>12500000</td>\n",
       "    </tr>\n",
       "    <tr>\n",
       "      <th>1</th>\n",
       "      <td>Basranger - Seblak Instan Basranger</td>\n",
       "      <td>20000</td>\n",
       "      <td>Kab. Bandung Barat</td>\n",
       "      <td>DeveniDives</td>\n",
       "      <td>0</td>\n",
       "      <td>0.0</td>\n",
       "      <td>0</td>\n",
       "    </tr>\n",
       "    <tr>\n",
       "      <th>2</th>\n",
       "      <td>Seblak Instan Ceu Nthien Khas Bandung Rasana N...</td>\n",
       "      <td>17000</td>\n",
       "      <td>Tangerang Selatan</td>\n",
       "      <td>Central Seblak Nusantara</td>\n",
       "      <td>2000</td>\n",
       "      <td>4.9</td>\n",
       "      <td>34000000</td>\n",
       "    </tr>\n",
       "    <tr>\n",
       "      <th>3</th>\n",
       "      <td>GFS Seblak Basah Instan Original - Tinggal Sed...</td>\n",
       "      <td>16618</td>\n",
       "      <td>Cimahi</td>\n",
       "      <td>Lakoca Official Shop</td>\n",
       "      <td>100</td>\n",
       "      <td>4.9</td>\n",
       "      <td>1661800</td>\n",
       "    </tr>\n",
       "    <tr>\n",
       "      <th>4</th>\n",
       "      <td>Kerupuk seblak pedas</td>\n",
       "      <td>15000</td>\n",
       "      <td>Cimahi</td>\n",
       "      <td>MACALONI SNACK</td>\n",
       "      <td>10</td>\n",
       "      <td>5.0</td>\n",
       "      <td>150000</td>\n",
       "    </tr>\n",
       "    <tr>\n",
       "      <th>...</th>\n",
       "      <td>...</td>\n",
       "      <td>...</td>\n",
       "      <td>...</td>\n",
       "      <td>...</td>\n",
       "      <td>...</td>\n",
       "      <td>...</td>\n",
       "      <td>...</td>\n",
       "    </tr>\n",
       "    <tr>\n",
       "      <th>828</th>\n",
       "      <td>seblak instan jawara pedas sehot bandung</td>\n",
       "      <td>12900</td>\n",
       "      <td>Cimahi</td>\n",
       "      <td>cemilan Bandungstore</td>\n",
       "      <td>60</td>\n",
       "      <td>4.9</td>\n",
       "      <td>774000</td>\n",
       "    </tr>\n",
       "    <tr>\n",
       "      <th>829</th>\n",
       "      <td>seblak basreng pedas original exstra daun jeru...</td>\n",
       "      <td>14500</td>\n",
       "      <td>Kab. Bandung</td>\n",
       "      <td>seblak bandung99</td>\n",
       "      <td>26</td>\n",
       "      <td>4.8</td>\n",
       "      <td>377000</td>\n",
       "    </tr>\n",
       "    <tr>\n",
       "      <th>830</th>\n",
       "      <td>Kerupuk Seblak RAFAEL / Krupuk Seblak Pedas Ba...</td>\n",
       "      <td>16000</td>\n",
       "      <td>Tangerang Selatan</td>\n",
       "      <td>ANUM SARI</td>\n",
       "      <td>25</td>\n",
       "      <td>4.3</td>\n",
       "      <td>400000</td>\n",
       "    </tr>\n",
       "    <tr>\n",
       "      <th>832</th>\n",
       "      <td>KERUPUK SEBLAK KENCUR PEDAS 1kG</td>\n",
       "      <td>45000</td>\n",
       "      <td>Depok</td>\n",
       "      <td>AQILA FROZEN FOOD JAKARTA</td>\n",
       "      <td>40</td>\n",
       "      <td>0.0</td>\n",
       "      <td>1800000</td>\n",
       "    </tr>\n",
       "    <tr>\n",
       "      <th>833</th>\n",
       "      <td>SIOMAY ISI 100PCS TOPPING BASO ACI / SEBLAK</td>\n",
       "      <td>35000</td>\n",
       "      <td>Jakarta Timur</td>\n",
       "      <td>Pusat Cuankie &amp; Cemilan Frozen</td>\n",
       "      <td>11</td>\n",
       "      <td>4.5</td>\n",
       "      <td>385000</td>\n",
       "    </tr>\n",
       "  </tbody>\n",
       "</table>\n",
       "<p>750 rows × 7 columns</p>\n",
       "</div>"
      ],
      "text/plain": [
       "                                           nama_produk  harga  \\\n",
       "0              Seblak Rafael, Seblak Coet Instan Halal  25000   \n",
       "1                  Basranger - Seblak Instan Basranger  20000   \n",
       "2    Seblak Instan Ceu Nthien Khas Bandung Rasana N...  17000   \n",
       "3    GFS Seblak Basah Instan Original - Tinggal Sed...  16618   \n",
       "4                                 Kerupuk seblak pedas  15000   \n",
       "..                                                 ...    ...   \n",
       "828           seblak instan jawara pedas sehot bandung  12900   \n",
       "829  seblak basreng pedas original exstra daun jeru...  14500   \n",
       "830  Kerupuk Seblak RAFAEL / Krupuk Seblak Pedas Ba...  16000   \n",
       "832                    KERUPUK SEBLAK KENCUR PEDAS 1kG  45000   \n",
       "833        SIOMAY ISI 100PCS TOPPING BASO ACI / SEBLAK  35000   \n",
       "\n",
       "            lokasi_toko                       nama_toko  banyak_terjual  \\\n",
       "0                 Depok               Brother Meat Shop             500   \n",
       "1    Kab. Bandung Barat                     DeveniDives               0   \n",
       "2     Tangerang Selatan        Central Seblak Nusantara            2000   \n",
       "3                Cimahi            Lakoca Official Shop             100   \n",
       "4                Cimahi                  MACALONI SNACK              10   \n",
       "..                  ...                             ...             ...   \n",
       "828              Cimahi            cemilan Bandungstore              60   \n",
       "829        Kab. Bandung                seblak bandung99              26   \n",
       "830   Tangerang Selatan                       ANUM SARI              25   \n",
       "832               Depok       AQILA FROZEN FOOD JAKARTA              40   \n",
       "833       Jakarta Timur  Pusat Cuankie & Cemilan Frozen              11   \n",
       "\n",
       "     rating  total_pendapatan/bulan  \n",
       "0       5.0                12500000  \n",
       "1       0.0                       0  \n",
       "2       4.9                34000000  \n",
       "3       4.9                 1661800  \n",
       "4       5.0                  150000  \n",
       "..      ...                     ...  \n",
       "828     4.9                  774000  \n",
       "829     4.8                  377000  \n",
       "830     4.3                  400000  \n",
       "832     0.0                 1800000  \n",
       "833     4.5                  385000  \n",
       "\n",
       "[750 rows x 7 columns]"
      ]
     },
     "execution_count": 22,
     "metadata": {},
     "output_type": "execute_result"
    }
   ],
   "source": [
    "#Membuat kolom baru yaitu pendapatan per bulan untuk dianalisis\n",
    "data['total_pendapatan/bulan'] = data['harga'] * data['banyak_terjual']\n",
    "data"
   ]
  },
  {
   "cell_type": "code",
   "execution_count": 23,
   "metadata": {},
   "outputs": [
    {
     "data": {
      "text/plain": [
       "count    7.500000e+02\n",
       "mean     6.925538e+06\n",
       "std      2.670733e+07\n",
       "min      0.000000e+00\n",
       "25%      3.000000e+05\n",
       "50%      1.024500e+06\n",
       "75%      3.204688e+06\n",
       "max      3.250000e+08\n",
       "Name: total_pendapatan/bulan, dtype: float64"
      ]
     },
     "execution_count": 23,
     "metadata": {},
     "output_type": "execute_result"
    }
   ],
   "source": [
    "#cek kolom pendapatan/bulan\n",
    "data['total_pendapatan/bulan'].describe()"
   ]
  },
  {
   "cell_type": "code",
   "execution_count": 24,
   "metadata": {},
   "outputs": [
    {
     "name": "stdout",
     "output_type": "stream",
     "text": [
      "Lower Limit: 5014154.299414823\n",
      "Upper Limit: 8836921.916585177\n"
     ]
    }
   ],
   "source": [
    "#menghitung confidence interval dengan tingkat kepercayaan 95%\n",
    "std = data['total_pendapatan/bulan'].std()\n",
    "N = len(data)\n",
    "low, up = stats.norm.interval(0.95,loc=data['total_pendapatan/bulan'].mean(),scale=std/np.sqrt(N))\n",
    "print('Lower Limit:',low)\n",
    "print('Upper Limit:',up)"
   ]
  },
  {
   "cell_type": "markdown",
   "metadata": {},
   "source": [
    "`Kita dapat menyimpulkan bahwa dengan tingkat kepercayaan 95% bahwa pendapatan dari penjualan produk seblak akan berada pada rentang 4062336.5312115727 sampai 7342141.876896535, per-bulannya`"
   ]
  },
  {
   "cell_type": "markdown",
   "metadata": {},
   "source": [
    "*SOAL NO. 3*"
   ]
  },
  {
   "cell_type": "markdown",
   "metadata": {},
   "source": [
    "Akan dilakukan pengujian terhadap ada atau tidaknya perbedaan harga barang di jabodetabek dan diluar jabodetabek. Terlebih dahulu akan dibuat dataframe baru untuk kedua kategori tersebut"
   ]
  },
  {
   "cell_type": "code",
   "execution_count": 25,
   "metadata": {},
   "outputs": [],
   "source": [
    "#Membuat DataFrame baru yang hanya berisi data dengan kota yang termasuk dalam wilayah Jabodetabek\n",
    "data_jabodetabek = data[data['lokasi_toko'].str.contains('Jakarta|Bogor|Depok|Tangerang|Bekasi', regex=True)]\n",
    "\n",
    "#Membuat DataFrame baru yang hanya berisi data dengan kota yang tidak termasuk dalam wilayah Jabodetabek\n",
    "data_non_jabodetabek = data[data['lokasi_toko'].str.contains('Jakarta|Bogor|Depok|Tangerang|Bekasi', regex=True)]"
   ]
  },
  {
   "cell_type": "code",
   "execution_count": 26,
   "metadata": {},
   "outputs": [
    {
     "data": {
      "text/html": [
       "<div>\n",
       "<style scoped>\n",
       "    .dataframe tbody tr th:only-of-type {\n",
       "        vertical-align: middle;\n",
       "    }\n",
       "\n",
       "    .dataframe tbody tr th {\n",
       "        vertical-align: top;\n",
       "    }\n",
       "\n",
       "    .dataframe thead th {\n",
       "        text-align: right;\n",
       "    }\n",
       "</style>\n",
       "<table border=\"1\" class=\"dataframe\">\n",
       "  <thead>\n",
       "    <tr style=\"text-align: right;\">\n",
       "      <th></th>\n",
       "      <th>nama_produk</th>\n",
       "      <th>harga</th>\n",
       "      <th>lokasi_toko</th>\n",
       "      <th>nama_toko</th>\n",
       "      <th>banyak_terjual</th>\n",
       "      <th>rating</th>\n",
       "      <th>total_pendapatan/bulan</th>\n",
       "    </tr>\n",
       "  </thead>\n",
       "  <tbody>\n",
       "    <tr>\n",
       "      <th>0</th>\n",
       "      <td>Seblak Rafael, Seblak Coet Instan Halal</td>\n",
       "      <td>25000</td>\n",
       "      <td>Depok</td>\n",
       "      <td>Brother Meat Shop</td>\n",
       "      <td>500</td>\n",
       "      <td>5.0</td>\n",
       "      <td>12500000</td>\n",
       "    </tr>\n",
       "    <tr>\n",
       "      <th>2</th>\n",
       "      <td>Seblak Instan Ceu Nthien Khas Bandung Rasana N...</td>\n",
       "      <td>17000</td>\n",
       "      <td>Tangerang Selatan</td>\n",
       "      <td>Central Seblak Nusantara</td>\n",
       "      <td>2000</td>\n",
       "      <td>4.9</td>\n",
       "      <td>34000000</td>\n",
       "    </tr>\n",
       "    <tr>\n",
       "      <th>6</th>\n",
       "      <td>SEBLAK INSTANT TERMURAH</td>\n",
       "      <td>4450</td>\n",
       "      <td>Jakarta Timur</td>\n",
       "      <td>Pusat Cuankie &amp; Cemilan Frozen</td>\n",
       "      <td>10000</td>\n",
       "      <td>4.8</td>\n",
       "      <td>44500000</td>\n",
       "    </tr>\n",
       "    <tr>\n",
       "      <th>7</th>\n",
       "      <td>Seblak Instan Pedas Home Made</td>\n",
       "      <td>3500</td>\n",
       "      <td>Tangerang Selatan</td>\n",
       "      <td>the Dhecip</td>\n",
       "      <td>3000</td>\n",
       "      <td>4.9</td>\n",
       "      <td>10500000</td>\n",
       "    </tr>\n",
       "    <tr>\n",
       "      <th>8</th>\n",
       "      <td>Kylafood Seblak Cup</td>\n",
       "      <td>11000</td>\n",
       "      <td>Jakarta Selatan</td>\n",
       "      <td>Kylafood Jakarta</td>\n",
       "      <td>100</td>\n",
       "      <td>5.0</td>\n",
       "      <td>1100000</td>\n",
       "    </tr>\n",
       "    <tr>\n",
       "      <th>...</th>\n",
       "      <td>...</td>\n",
       "      <td>...</td>\n",
       "      <td>...</td>\n",
       "      <td>...</td>\n",
       "      <td>...</td>\n",
       "      <td>...</td>\n",
       "      <td>...</td>\n",
       "    </tr>\n",
       "    <tr>\n",
       "      <th>821</th>\n",
       "      <td>Kerupuk SEBLAK KERITING PEDAS ( 1 Kg )</td>\n",
       "      <td>79000</td>\n",
       "      <td>Jakarta Barat</td>\n",
       "      <td>KRIUK JAYA</td>\n",
       "      <td>11</td>\n",
       "      <td>5.0</td>\n",
       "      <td>869000</td>\n",
       "    </tr>\n",
       "    <tr>\n",
       "      <th>822</th>\n",
       "      <td>cuanki/cuankie lidah isi 50 pcs khas Garut bas...</td>\n",
       "      <td>16999</td>\n",
       "      <td>Tangerang</td>\n",
       "      <td>ArfaOnlineShop</td>\n",
       "      <td>80</td>\n",
       "      <td>4.9</td>\n",
       "      <td>1359920</td>\n",
       "    </tr>\n",
       "    <tr>\n",
       "      <th>830</th>\n",
       "      <td>Kerupuk Seblak RAFAEL / Krupuk Seblak Pedas Ba...</td>\n",
       "      <td>16000</td>\n",
       "      <td>Tangerang Selatan</td>\n",
       "      <td>ANUM SARI</td>\n",
       "      <td>25</td>\n",
       "      <td>4.3</td>\n",
       "      <td>400000</td>\n",
       "    </tr>\n",
       "    <tr>\n",
       "      <th>832</th>\n",
       "      <td>KERUPUK SEBLAK KENCUR PEDAS 1kG</td>\n",
       "      <td>45000</td>\n",
       "      <td>Depok</td>\n",
       "      <td>AQILA FROZEN FOOD JAKARTA</td>\n",
       "      <td>40</td>\n",
       "      <td>0.0</td>\n",
       "      <td>1800000</td>\n",
       "    </tr>\n",
       "    <tr>\n",
       "      <th>833</th>\n",
       "      <td>SIOMAY ISI 100PCS TOPPING BASO ACI / SEBLAK</td>\n",
       "      <td>35000</td>\n",
       "      <td>Jakarta Timur</td>\n",
       "      <td>Pusat Cuankie &amp; Cemilan Frozen</td>\n",
       "      <td>11</td>\n",
       "      <td>4.5</td>\n",
       "      <td>385000</td>\n",
       "    </tr>\n",
       "  </tbody>\n",
       "</table>\n",
       "<p>408 rows × 7 columns</p>\n",
       "</div>"
      ],
      "text/plain": [
       "                                           nama_produk  harga  \\\n",
       "0              Seblak Rafael, Seblak Coet Instan Halal  25000   \n",
       "2    Seblak Instan Ceu Nthien Khas Bandung Rasana N...  17000   \n",
       "6                              SEBLAK INSTANT TERMURAH   4450   \n",
       "7                        Seblak Instan Pedas Home Made   3500   \n",
       "8                                  Kylafood Seblak Cup  11000   \n",
       "..                                                 ...    ...   \n",
       "821             Kerupuk SEBLAK KERITING PEDAS ( 1 Kg )  79000   \n",
       "822  cuanki/cuankie lidah isi 50 pcs khas Garut bas...  16999   \n",
       "830  Kerupuk Seblak RAFAEL / Krupuk Seblak Pedas Ba...  16000   \n",
       "832                    KERUPUK SEBLAK KENCUR PEDAS 1kG  45000   \n",
       "833        SIOMAY ISI 100PCS TOPPING BASO ACI / SEBLAK  35000   \n",
       "\n",
       "           lokasi_toko                       nama_toko  banyak_terjual  \\\n",
       "0                Depok               Brother Meat Shop             500   \n",
       "2    Tangerang Selatan        Central Seblak Nusantara            2000   \n",
       "6        Jakarta Timur  Pusat Cuankie & Cemilan Frozen           10000   \n",
       "7    Tangerang Selatan                      the Dhecip            3000   \n",
       "8      Jakarta Selatan                Kylafood Jakarta             100   \n",
       "..                 ...                             ...             ...   \n",
       "821      Jakarta Barat                      KRIUK JAYA              11   \n",
       "822          Tangerang                  ArfaOnlineShop              80   \n",
       "830  Tangerang Selatan                       ANUM SARI              25   \n",
       "832              Depok       AQILA FROZEN FOOD JAKARTA              40   \n",
       "833      Jakarta Timur  Pusat Cuankie & Cemilan Frozen              11   \n",
       "\n",
       "     rating  total_pendapatan/bulan  \n",
       "0       5.0                12500000  \n",
       "2       4.9                34000000  \n",
       "6       4.8                44500000  \n",
       "7       4.9                10500000  \n",
       "8       5.0                 1100000  \n",
       "..      ...                     ...  \n",
       "821     5.0                  869000  \n",
       "822     4.9                 1359920  \n",
       "830     4.3                  400000  \n",
       "832     0.0                 1800000  \n",
       "833     4.5                  385000  \n",
       "\n",
       "[408 rows x 7 columns]"
      ]
     },
     "execution_count": 26,
     "metadata": {},
     "output_type": "execute_result"
    }
   ],
   "source": [
    "data_jabodetabek"
   ]
  },
  {
   "cell_type": "code",
   "execution_count": 27,
   "metadata": {},
   "outputs": [
    {
     "data": {
      "text/html": [
       "<div>\n",
       "<style scoped>\n",
       "    .dataframe tbody tr th:only-of-type {\n",
       "        vertical-align: middle;\n",
       "    }\n",
       "\n",
       "    .dataframe tbody tr th {\n",
       "        vertical-align: top;\n",
       "    }\n",
       "\n",
       "    .dataframe thead th {\n",
       "        text-align: right;\n",
       "    }\n",
       "</style>\n",
       "<table border=\"1\" class=\"dataframe\">\n",
       "  <thead>\n",
       "    <tr style=\"text-align: right;\">\n",
       "      <th></th>\n",
       "      <th>nama_produk</th>\n",
       "      <th>harga</th>\n",
       "      <th>lokasi_toko</th>\n",
       "      <th>nama_toko</th>\n",
       "      <th>banyak_terjual</th>\n",
       "      <th>rating</th>\n",
       "      <th>total_pendapatan/bulan</th>\n",
       "    </tr>\n",
       "  </thead>\n",
       "  <tbody>\n",
       "    <tr>\n",
       "      <th>0</th>\n",
       "      <td>Seblak Rafael, Seblak Coet Instan Halal</td>\n",
       "      <td>25000</td>\n",
       "      <td>Depok</td>\n",
       "      <td>Brother Meat Shop</td>\n",
       "      <td>500</td>\n",
       "      <td>5.0</td>\n",
       "      <td>12500000</td>\n",
       "    </tr>\n",
       "    <tr>\n",
       "      <th>2</th>\n",
       "      <td>Seblak Instan Ceu Nthien Khas Bandung Rasana N...</td>\n",
       "      <td>17000</td>\n",
       "      <td>Tangerang Selatan</td>\n",
       "      <td>Central Seblak Nusantara</td>\n",
       "      <td>2000</td>\n",
       "      <td>4.9</td>\n",
       "      <td>34000000</td>\n",
       "    </tr>\n",
       "    <tr>\n",
       "      <th>6</th>\n",
       "      <td>SEBLAK INSTANT TERMURAH</td>\n",
       "      <td>4450</td>\n",
       "      <td>Jakarta Timur</td>\n",
       "      <td>Pusat Cuankie &amp; Cemilan Frozen</td>\n",
       "      <td>10000</td>\n",
       "      <td>4.8</td>\n",
       "      <td>44500000</td>\n",
       "    </tr>\n",
       "    <tr>\n",
       "      <th>7</th>\n",
       "      <td>Seblak Instan Pedas Home Made</td>\n",
       "      <td>3500</td>\n",
       "      <td>Tangerang Selatan</td>\n",
       "      <td>the Dhecip</td>\n",
       "      <td>3000</td>\n",
       "      <td>4.9</td>\n",
       "      <td>10500000</td>\n",
       "    </tr>\n",
       "    <tr>\n",
       "      <th>8</th>\n",
       "      <td>Kylafood Seblak Cup</td>\n",
       "      <td>11000</td>\n",
       "      <td>Jakarta Selatan</td>\n",
       "      <td>Kylafood Jakarta</td>\n",
       "      <td>100</td>\n",
       "      <td>5.0</td>\n",
       "      <td>1100000</td>\n",
       "    </tr>\n",
       "    <tr>\n",
       "      <th>...</th>\n",
       "      <td>...</td>\n",
       "      <td>...</td>\n",
       "      <td>...</td>\n",
       "      <td>...</td>\n",
       "      <td>...</td>\n",
       "      <td>...</td>\n",
       "      <td>...</td>\n",
       "    </tr>\n",
       "    <tr>\n",
       "      <th>821</th>\n",
       "      <td>Kerupuk SEBLAK KERITING PEDAS ( 1 Kg )</td>\n",
       "      <td>79000</td>\n",
       "      <td>Jakarta Barat</td>\n",
       "      <td>KRIUK JAYA</td>\n",
       "      <td>11</td>\n",
       "      <td>5.0</td>\n",
       "      <td>869000</td>\n",
       "    </tr>\n",
       "    <tr>\n",
       "      <th>822</th>\n",
       "      <td>cuanki/cuankie lidah isi 50 pcs khas Garut bas...</td>\n",
       "      <td>16999</td>\n",
       "      <td>Tangerang</td>\n",
       "      <td>ArfaOnlineShop</td>\n",
       "      <td>80</td>\n",
       "      <td>4.9</td>\n",
       "      <td>1359920</td>\n",
       "    </tr>\n",
       "    <tr>\n",
       "      <th>830</th>\n",
       "      <td>Kerupuk Seblak RAFAEL / Krupuk Seblak Pedas Ba...</td>\n",
       "      <td>16000</td>\n",
       "      <td>Tangerang Selatan</td>\n",
       "      <td>ANUM SARI</td>\n",
       "      <td>25</td>\n",
       "      <td>4.3</td>\n",
       "      <td>400000</td>\n",
       "    </tr>\n",
       "    <tr>\n",
       "      <th>832</th>\n",
       "      <td>KERUPUK SEBLAK KENCUR PEDAS 1kG</td>\n",
       "      <td>45000</td>\n",
       "      <td>Depok</td>\n",
       "      <td>AQILA FROZEN FOOD JAKARTA</td>\n",
       "      <td>40</td>\n",
       "      <td>0.0</td>\n",
       "      <td>1800000</td>\n",
       "    </tr>\n",
       "    <tr>\n",
       "      <th>833</th>\n",
       "      <td>SIOMAY ISI 100PCS TOPPING BASO ACI / SEBLAK</td>\n",
       "      <td>35000</td>\n",
       "      <td>Jakarta Timur</td>\n",
       "      <td>Pusat Cuankie &amp; Cemilan Frozen</td>\n",
       "      <td>11</td>\n",
       "      <td>4.5</td>\n",
       "      <td>385000</td>\n",
       "    </tr>\n",
       "  </tbody>\n",
       "</table>\n",
       "<p>408 rows × 7 columns</p>\n",
       "</div>"
      ],
      "text/plain": [
       "                                           nama_produk  harga  \\\n",
       "0              Seblak Rafael, Seblak Coet Instan Halal  25000   \n",
       "2    Seblak Instan Ceu Nthien Khas Bandung Rasana N...  17000   \n",
       "6                              SEBLAK INSTANT TERMURAH   4450   \n",
       "7                        Seblak Instan Pedas Home Made   3500   \n",
       "8                                  Kylafood Seblak Cup  11000   \n",
       "..                                                 ...    ...   \n",
       "821             Kerupuk SEBLAK KERITING PEDAS ( 1 Kg )  79000   \n",
       "822  cuanki/cuankie lidah isi 50 pcs khas Garut bas...  16999   \n",
       "830  Kerupuk Seblak RAFAEL / Krupuk Seblak Pedas Ba...  16000   \n",
       "832                    KERUPUK SEBLAK KENCUR PEDAS 1kG  45000   \n",
       "833        SIOMAY ISI 100PCS TOPPING BASO ACI / SEBLAK  35000   \n",
       "\n",
       "           lokasi_toko                       nama_toko  banyak_terjual  \\\n",
       "0                Depok               Brother Meat Shop             500   \n",
       "2    Tangerang Selatan        Central Seblak Nusantara            2000   \n",
       "6        Jakarta Timur  Pusat Cuankie & Cemilan Frozen           10000   \n",
       "7    Tangerang Selatan                      the Dhecip            3000   \n",
       "8      Jakarta Selatan                Kylafood Jakarta             100   \n",
       "..                 ...                             ...             ...   \n",
       "821      Jakarta Barat                      KRIUK JAYA              11   \n",
       "822          Tangerang                  ArfaOnlineShop              80   \n",
       "830  Tangerang Selatan                       ANUM SARI              25   \n",
       "832              Depok       AQILA FROZEN FOOD JAKARTA              40   \n",
       "833      Jakarta Timur  Pusat Cuankie & Cemilan Frozen              11   \n",
       "\n",
       "     rating  total_pendapatan/bulan  \n",
       "0       5.0                12500000  \n",
       "2       4.9                34000000  \n",
       "6       4.8                44500000  \n",
       "7       4.9                10500000  \n",
       "8       5.0                 1100000  \n",
       "..      ...                     ...  \n",
       "821     5.0                  869000  \n",
       "822     4.9                 1359920  \n",
       "830     4.3                  400000  \n",
       "832     0.0                 1800000  \n",
       "833     4.5                  385000  \n",
       "\n",
       "[408 rows x 7 columns]"
      ]
     },
     "execution_count": 27,
     "metadata": {},
     "output_type": "execute_result"
    }
   ],
   "source": [
    "data_non_jabodetabek"
   ]
  },
  {
   "cell_type": "code",
   "execution_count": 28,
   "metadata": {},
   "outputs": [],
   "source": [
    "#definisikan harga seblak jabodetabek\n",
    "hargajab = data_jabodetabek['harga']"
   ]
  },
  {
   "cell_type": "code",
   "execution_count": 29,
   "metadata": {},
   "outputs": [],
   "source": [
    "#definisikan harga seblak non jabodetabek\n",
    "harganonjab = data_non_jabodetabek['harga']"
   ]
  },
  {
   "cell_type": "markdown",
   "metadata": {},
   "source": [
    "Untuk menguji, akan digunakan Paired Test (Two Sample Dependent Test), Hipotesisnya yaitu:\n",
    "\n",
    "H0: Harga Seblak Jabodetabek = Harga Seblak Non Jabodetabek\n",
    "\n",
    "H1: Harga Seblak Jabodetabek != Harga Seblak Non Jabodetabek"
   ]
  },
  {
   "cell_type": "code",
   "execution_count": 30,
   "metadata": {},
   "outputs": [
    {
     "name": "stdout",
     "output_type": "stream",
     "text": [
      "P-value: 0.19369255573389232\n"
     ]
    }
   ],
   "source": [
    "#Eksekusi Two-Sample Dependent Test\n",
    "t_stat,p_val = stats.ttest_rel(hargajab.sample(100), harganonjab.sample(100))\n",
    "print('P-value:',p_val)"
   ]
  },
  {
   "cell_type": "markdown",
   "metadata": {},
   "source": [
    "`Karena p-value bernilai > 0.05 (Critical Value), maka disimpulkan bahwa kita gagal untuk menolak H0 yang berarti harga seblak di Jabodetabek sama dengan harga seblak di luar Jabodetabek`"
   ]
  },
  {
   "cell_type": "markdown",
   "metadata": {},
   "source": [
    "*SOAL NO. 4*"
   ]
  },
  {
   "cell_type": "markdown",
   "metadata": {},
   "source": [
    "Akan dilakukan analisis korelasi untuk menguji kecenderungan orang suka dengan produk murah. Analisis korelasi yang digunakan adalah spearman correlation analysis karena data memiliki outlier, dan akan dieksekusi dengan library scipy"
   ]
  },
  {
   "cell_type": "code",
   "execution_count": 32,
   "metadata": {},
   "outputs": [
    {
     "data": {
      "text/plain": [
       "<seaborn.axisgrid.FacetGrid at 0x19dcfdd1d00>"
      ]
     },
     "execution_count": 32,
     "metadata": {},
     "output_type": "execute_result"
    },
    {
     "data": {
      "image/png": "[encoded data removed]",
      "text/plain": [
       "<Figure size 500x500 with 1 Axes>"
      ]
     },
     "metadata": {},
     "output_type": "display_data"
    }
   ],
   "source": [
    "#Plot kedua variabel yang akan dianalisis\n",
    "import seaborn as sns\n",
    "sns.lmplot(data=data,x='harga', y='rating')"
   ]
  },
  {
   "cell_type": "markdown",
   "metadata": {},
   "source": [
    "H0: Tidak ada korelasi antara harga dan rating\n",
    "\n",
    "H1: Ada korelasi antara harga dan rating"
   ]
  },
  {
   "cell_type": "code",
   "execution_count": 33,
   "metadata": {},
   "outputs": [
    {
     "name": "stdout",
     "output_type": "stream",
     "text": [
      "rho-correlation: 0.09, p-value: 0.011148207712514591\n"
     ]
    }
   ],
   "source": [
    "#Jalankan analisis korelasi spearman\n",
    "corr_rho, pval_s = stats.spearmanr(data['harga'], data['rating'])\n",
    "print(f\"rho-correlation: {corr_rho:.2f}, p-value: {pval_s}\")"
   ]
  },
  {
   "cell_type": "markdown",
   "metadata": {},
   "source": [
    "Nilai rho-correlation sebesar 0,09 menunjukan adanya korelasi positif dimana jika harga naik maka rating juga naik. Lalu Nilai p-value sebesar 0.011148207712514591 menunjukkan bahwa terdapat bukti yang cukup untuk menolak hipotesis nol. Artinya, ada korelasi antara harga dan rating. `Disimpulkan bahwa orang tidak lebih cenderung suka dengan produk yang harganya murah.`"
   ]
  }
 ],
 "metadata": {
  "kernelspec": {
   "display_name": "Python 3",
   "language": "python",
   "name": "python3"
  },
  "language_info": {
   "codemirror_mode": {
    "name": "ipython",
    "version": 3
   },
   "file_extension": ".py",
   "mimetype": "text/x-python",
   "name": "python",
   "nbconvert_exporter": "python",
   "pygments_lexer": "ipython3",
   "version": "3.9.7"
  }
 },
 "nbformat": 4,
 "nbformat_minor": 2
}
